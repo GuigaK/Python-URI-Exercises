{
  "nbformat": 4,
  "nbformat_minor": 0,
  "metadata": {
    "colab": {
      "name": "1018 - Cedula.ipynb",
      "provenance": [],
      "collapsed_sections": [],
      "authorship_tag": "ABX9TyOt8ChBU4a1njgiLBF66End",
      "include_colab_link": true
    },
    "kernelspec": {
      "name": "python3",
      "display_name": "Python 3"
    }
  },
  "cells": [
    {
      "cell_type": "markdown",
      "metadata": {
        "id": "view-in-github",
        "colab_type": "text"
      },
      "source": [
        "<a href=\"https://colab.research.google.com/github/GuigaK/Python-URI-Exercises/blob/master/1018_Cedula.ipynb\" target=\"_parent\"><img src=\"https://colab.research.google.com/assets/colab-badge.svg\" alt=\"Open In Colab\"/></a>"
      ]
    },
    {
      "cell_type": "code",
      "metadata": {
        "id": "Qk4syKT8LEzT",
        "colab_type": "code",
        "colab": {}
      },
      "source": [
        "# Le o valor\n",
        "valor = int(input())\n",
        "\n",
        "# Imprime o valor\n",
        "print(valor)\n",
        "\n",
        "# Define as cedulas\n",
        "cedulas = [100, 50, 20, 10, 5, 2, 1]\n",
        "\n",
        "# Para cada cedula calcula a quantidade de cedulas\n",
        "for cedula in cedulas:\n",
        "  qtd = int(valor / cedula)\n",
        "  print('{} nota(s) de R$ {},00'.format(qtd, cedula))\n",
        "# Retira o valor \"usado\" \n",
        "  valor -= qtd * cedula"
      ],
      "execution_count": 0,
      "outputs": []
    }
  ]
}