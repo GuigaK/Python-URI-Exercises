{
  "nbformat": 4,
  "nbformat_minor": 0,
  "metadata": {
    "colab": {
      "name": "1021 - Notas e moedas.ipynb",
      "provenance": [],
      "authorship_tag": "ABX9TyMdnSAQRnZxNDkugilt2/M7",
      "include_colab_link": true
    },
    "kernelspec": {
      "name": "python3",
      "display_name": "Python 3"
    }
  },
  "cells": [
    {
      "cell_type": "markdown",
      "metadata": {
        "id": "view-in-github",
        "colab_type": "text"
      },
      "source": [
        "<a href=\"https://colab.research.google.com/github/GuigaK/Python-URI-Exercises/blob/master/1021_Notas_e_moedas.ipynb\" target=\"_parent\"><img src=\"https://colab.research.google.com/assets/colab-badge.svg\" alt=\"Open In Colab\"/></a>"
      ]
    },
    {
      "cell_type": "code",
      "metadata": {
        "id": "pRuUzgaaGcM0",
        "colab_type": "code",
        "colab": {}
      },
      "source": [
        "# Criar listas para notas e moedas\n",
        "notas = [100, 50, 20, 10, 5, 2]\n",
        "moedas = [1, 0.50, 0.25, 0.10, 0.05, 0.01]\n",
        "\n",
        "# Ler o valor\n",
        "n = float(input())\n",
        "\n",
        "print('NOTAS:')\n",
        "# Dividir o valor total pelo valor de cada nota\n",
        "for nota in notas:\n",
        "  qtd = int(n / nota)\n",
        "# Tirar o valor obtido acima\n",
        "  n -= qtd * nota\n",
        "# Imprimir o resultado\n",
        "  print('{} nota(s) de R$ {}.00'.format(qtd, nota))\n",
        "\n",
        "print('MOEDAS:')\n",
        "# Continuar a operação com o valor restante\n",
        "for moeda in moedas:\n",
        "  qtd = int(n / moeda)\n",
        "  n -= qtd * moeda\n",
        "  print('{} moeda(s) de R$ {:.2f}'.format(qtd, moeda))"
      ],
      "execution_count": 0,
      "outputs": []
    }
  ]
}