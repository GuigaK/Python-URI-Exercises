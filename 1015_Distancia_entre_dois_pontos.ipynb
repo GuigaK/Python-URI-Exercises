{
  "nbformat": 4,
  "nbformat_minor": 0,
  "metadata": {
    "colab": {
      "name": "1015_Distancia_entre_dois_pontos.ipynb",
      "provenance": [],
      "collapsed_sections": [],
      "authorship_tag": "ABX9TyNztituiQrtmyqUsv4si02R",
      "include_colab_link": true
    },
    "kernelspec": {
      "name": "python3",
      "display_name": "Python 3"
    }
  },
  "cells": [
    {
      "cell_type": "markdown",
      "metadata": {
        "id": "view-in-github",
        "colab_type": "text"
      },
      "source": [
        "<a href=\"https://colab.research.google.com/github/GuigaK/Python-URI-Exercises/blob/master/1015_Distancia_entre_dois_pontos.ipynb\" target=\"_parent\"><img src=\"https://colab.research.google.com/assets/colab-badge.svg\" alt=\"Open In Colab\"/></a>"
      ]
    },
    {
      "cell_type": "code",
      "metadata": {
        "id": "U86y6tWl5IUz",
        "colab_type": "code",
        "colab": {}
      },
      "source": [
        "# Ler os 4 valores e splitar\n",
        "p1 = input().split()\n",
        "p2 = input().split()\n",
        "\n",
        "# Converter os splits e atribuir as variaveis\n",
        "x1, y1 = [float(x) for x in p1]\n",
        "x2, y2 = [float(x) for x in p2]\n",
        "\n",
        "# Aplicar formula\n",
        "distancia = (((x2 - x1) ** 2) + ((y2 - y1) ** 2)) ** 0.5\n",
        "\n",
        "# Imprimir o resultado\n",
        "print('{:.4f}'.format(distancia))"
      ],
      "execution_count": 0,
      "outputs": []
    }
  ]
}