{
  "nbformat": 4,
  "nbformat_minor": 0,
  "metadata": {
    "colab": {
      "name": "1017 - Gasto de combustivel.ipynb",
      "provenance": [],
      "authorship_tag": "ABX9TyPLPqRlMJcEEU69NzW/Rd99",
      "include_colab_link": true
    },
    "kernelspec": {
      "name": "python3",
      "display_name": "Python 3"
    }
  },
  "cells": [
    {
      "cell_type": "markdown",
      "metadata": {
        "id": "view-in-github",
        "colab_type": "text"
      },
      "source": [
        "<a href=\"https://colab.research.google.com/github/GuigaK/Python-URI-Exercises/blob/master/1017_Gasto_de_combustivel.ipynb\" target=\"_parent\"><img src=\"https://colab.research.google.com/assets/colab-badge.svg\" alt=\"Open In Colab\"/></a>"
      ]
    },
    {
      "cell_type": "code",
      "metadata": {
        "id": "MITyZFIBa8uu",
        "colab_type": "code",
        "colab": {
          "base_uri": "https://localhost:8080/",
          "height": 68
        },
        "outputId": "2efc748e-12ea-41c5-b94a-22a30276d836"
      },
      "source": [
        "# Le o tempo gasto em horas e a velocidade media em km/h\n",
        "tempo = int(input())\n",
        "velocidade = int(input())\n",
        "\n",
        "# Multiplicando o tempo pela velocidade temos a distancia total\n",
        "consumo = (velocidade * tempo) / 12\n",
        "\n",
        "# Dividindo pelo consumo temos o gasto em litros\n",
        "print('{:.3f}'.format(consumo))"
      ],
      "execution_count": 2,
      "outputs": [
        {
          "output_type": "stream",
          "text": [
            "50\n",
            "10\n",
            "41.667\n"
          ],
          "name": "stdout"
        }
      ]
    }
  ]
}