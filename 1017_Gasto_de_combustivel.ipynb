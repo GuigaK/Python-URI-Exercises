{
  "nbformat": 4,
  "nbformat_minor": 0,
  "metadata": {
    "colab": {
      "name": "1017 - Gasto de combustivel.ipynb",
      "provenance": [],
      "authorship_tag": "ABX9TyPLPqRlMJcEEU69NzW/Rd99",
      "include_colab_link": true
    },
    "kernelspec": {
      "name": "python3",
      "display_name": "Python 3"
    }
  },
  "cells": [
    {
      "cell_type": "markdown",
      "metadata": {
        "id": "view-in-github",
        "colab_type": "text"
      },
      "source": [
        "<a href=\"https://colab.research.google.com/github/GuigaK/Python-URI-Exercises/blob/master/1017_Gasto_de_combustivel.ipynb\" target=\"_parent\"><img src=\"https://colab.research.google.com/assets/colab-badge.svg\" alt=\"Open In Colab\"/></a>"
      ]
    },
    {
      "cell_type": "code",
      "metadata": {
        "id": "MITyZFIBa8uu",
        "colab_type": "code",
        "colab": {}
      },
      "source": [
        "# Le o tempo gasto em horas e a velocidade media em km/h\n",
        "tempo = int(input())\n",
        "velocidade = int(input())\n",
        "\n",
        "# Multiplicando o tempo pela velocidade temos a distancia total\n",
        "consumo = (velocidade * tempo) / 12\n",
        "\n",
        "# Dividindo pelo consumo temos o gasto em litros\n",
        "print('{:.3f}'.format(consumo))"
      ],
      "execution_count": 0,
      "outputs": []
    }
  ]
}