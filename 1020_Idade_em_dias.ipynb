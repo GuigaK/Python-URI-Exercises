{
  "nbformat": 4,
  "nbformat_minor": 0,
  "metadata": {
    "colab": {
      "name": "1020 - Idade em dias",
      "provenance": [],
      "authorship_tag": "ABX9TyOvU+aiJ8D5N86MHCMioC0/",
      "include_colab_link": true
    },
    "kernelspec": {
      "name": "python3",
      "display_name": "Python 3"
    }
  },
  "cells": [
    {
      "cell_type": "markdown",
      "metadata": {
        "id": "view-in-github",
        "colab_type": "text"
      },
      "source": [
        "<a href=\"https://colab.research.google.com/github/GuigaK/Python-URI-Exercises/blob/master/1020_Idade_em_dias.ipynb\" target=\"_parent\"><img src=\"https://colab.research.google.com/assets/colab-badge.svg\" alt=\"Open In Colab\"/></a>"
      ]
    },
    {
      "cell_type": "code",
      "metadata": {
        "id": "pifXpKjHbEQy",
        "colab_type": "code",
        "outputId": "fff9b15b-644e-4202-b270-c81b3aae47f4",
        "colab": {
          "base_uri": "https://localhost:8080/",
          "height": 85
        }
      },
      "source": [
        "# Ler a idade em dias\n",
        "idade = int(input())\n",
        "\n",
        "# Converter os dias em meses e anos e colocar limites\n",
        "anos = int(idade / 365)\n",
        "meses = int((idade / 30) % 12)\n",
        "dias = int((idade % 365) % 30)\n",
        "\n",
        "# Imprime o resultado\n",
        "print('{} ano(s)\\n{} mes(es)\\n{} dia(s)'.format(anos, meses, dias))"
      ],
      "execution_count": 0,
      "outputs": [
        {
          "output_type": "stream",
          "text": [
            "370\n",
            "1 ano(s)\n",
            "0 mes(es)\n",
            "5 dia(s)\n"
          ],
          "name": "stdout"
        }
      ]
    }
  ]
}