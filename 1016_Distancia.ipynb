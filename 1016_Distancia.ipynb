{
  "nbformat": 4,
  "nbformat_minor": 0,
  "metadata": {
    "colab": {
      "name": "1016_Distancia.ipynb",
      "provenance": [],
      "collapsed_sections": [],
      "authorship_tag": "ABX9TyP7NIR22tND75UxMRCtx8c4",
      "include_colab_link": true
    },
    "kernelspec": {
      "name": "python3",
      "display_name": "Python 3"
    }
  },
  "cells": [
    {
      "cell_type": "markdown",
      "metadata": {
        "id": "view-in-github",
        "colab_type": "text"
      },
      "source": [
        "<a href=\"https://colab.research.google.com/github/GuigaK/Python-URI-Exercises/blob/master/1016_Distancia.ipynb\" target=\"_parent\"><img src=\"https://colab.research.google.com/assets/colab-badge.svg\" alt=\"Open In Colab\"/></a>"
      ]
    },
    {
      "cell_type": "code",
      "metadata": {
        "id": "eQh9GY6hzERn",
        "colab_type": "code",
        "colab": {}
      },
      "source": [
        "# Ler o valor e atribuir a uma variavel\n",
        "dist = int(input())\n",
        "\n",
        "# Atribui formula a variavel\n",
        "tempo = dist*2\n",
        "\n",
        "# Imprime o resultado\n",
        "print('{} minutos'.format(tempo))"
      ],
      "execution_count": 0,
      "outputs": []
    }
  ]
}