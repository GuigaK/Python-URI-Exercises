{
  "nbformat": 4,
  "nbformat_minor": 0,
  "metadata": {
    "colab": {
      "name": "1012 - Area",
      "provenance": [],
      "collapsed_sections": [],
      "authorship_tag": "ABX9TyNGiD5DSyDkXzgO9tKjIBng",
      "include_colab_link": true
    },
    "kernelspec": {
      "name": "python3",
      "display_name": "Python 3"
    }
  },
  "cells": [
    {
      "cell_type": "markdown",
      "metadata": {
        "id": "view-in-github",
        "colab_type": "text"
      },
      "source": [
        "<a href=\"https://colab.research.google.com/github/GuigaK/Python-URI-Exercises/blob/master/1012_Area.ipynb\" target=\"_parent\"><img src=\"https://colab.research.google.com/assets/colab-badge.svg\" alt=\"Open In Colab\"/></a>"
      ]
    },
    {
      "cell_type": "code",
      "metadata": {
        "id": "mcrxHemh35hl",
        "colab_type": "code",
        "colab": {}
      },
      "source": [
        "# Ler os tres valores e transformar cada valor em elemento de uma lista\n",
        "valores = input().split()\n",
        "\n",
        "# Split gera elements em str, converter para float\n",
        "convertido = [float(x) for x in valores]\n",
        "\n",
        "# Atribui cada elemento da lista a uma variavel\n",
        "a, b, c = convertido\n",
        "\n",
        "# Aplicacao das formulas com as variaveis\n",
        "triangulo = (a * c) / 2\n",
        "circulo = 3.14159 * (c ** 2)\n",
        "trapezio = ((a + b) * c) / 2\n",
        "quadrado = b ** 2\n",
        "retangulo = a * b\n",
        "\n",
        "# Imprime o resultado\n",
        "print('TRIANGULO: {:.3f}'.format(triangulo))\n",
        "print('CIRCULO: {:.3f}'.format(circulo))\n",
        "print('TRAPEZIO: {:.3f}'.format(trapezio))\n",
        "print('QUADRADO: {:.3f}'.format(quadrado))\n",
        "print('RETANGULO: {:.3f}'.format(retangulo))"
      ],
      "execution_count": 0,
      "outputs": []
    }
  ]
}