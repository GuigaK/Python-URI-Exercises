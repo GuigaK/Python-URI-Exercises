{
  "nbformat": 4,
  "nbformat_minor": 0,
  "metadata": {
    "colab": {
      "name": "1012 - Area",
      "provenance": [],
      "collapsed_sections": []
    },
    "kernelspec": {
      "name": "python3",
      "display_name": "Python 3"
    }
  },
  "cells": [
    {
      "cell_type": "code",
      "metadata": {
        "id": "mcrxHemh35hl",
        "colab_type": "code",
        "outputId": "7a1bffc0-53d9-490b-faee-914aa673bbb7",
        "colab": {
          "base_uri": "https://localhost:8080/",
          "height": 170
        }
      },
      "source": [
        "valores = input().split()\n",
        "convertido = [float(x) for x in valores]\n",
        "a, b, c = convertido\n",
        "triangulo = (a * c) / 2\n",
        "circulo = 3.14159 * (c ** 2)\n",
        "trapezio = ((a + b) * c) / 2\n",
        "quadrado = b ** 2\n",
        "retangulo = a * b\n",
        "\n",
        "print('TRIANGULO: {:.3f}'.format(triangulo))\n",
        "print('CIRCULO: {:.3f}'.format(circulo))\n",
        "print('TRAPEZIO: {:.3f}'.format(trapezio))\n",
        "print('QUADRADO: {:.3f}'.format(quadrado))\n",
        "print('RETANGULO: {:.3f}'.format(retangulo))"
      ],
      "execution_count": 0,
      "outputs": [
        {
          "output_type": "stream",
          "text": [
            "10 20 30\n",
            "10.0\n",
            "20.0\n",
            "30.0\n",
            "TRIANGULO: 150.000\n",
            "CIRCULO: 2827.431\n",
            "TRAPEZIO: 450.000\n",
            "QUADRADO: 400.000\n",
            "RETANGULO: 200.000\n"
          ],
          "name": "stdout"
        }
      ]
    },
    {
      "cell_type": "code",
      "metadata": {
        "id": "I9EkF_ZFauad",
        "colab_type": "code",
        "colab": {}
      },
      "source": [
        ""
      ],
      "execution_count": 0,
      "outputs": []
    }
  ]
}