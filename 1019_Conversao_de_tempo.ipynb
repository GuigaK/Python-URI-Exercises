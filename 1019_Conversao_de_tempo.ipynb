{
  "nbformat": 4,
  "nbformat_minor": 0,
  "metadata": {
    "colab": {
      "name": "1019 - Conversao de tempo.ipynb",
      "provenance": [],
      "authorship_tag": "ABX9TyNlQBMrair/79B23g6l2YcD",
      "include_colab_link": true
    },
    "kernelspec": {
      "name": "python3",
      "display_name": "Python 3"
    }
  },
  "cells": [
    {
      "cell_type": "markdown",
      "metadata": {
        "id": "view-in-github",
        "colab_type": "text"
      },
      "source": [
        "<a href=\"https://colab.research.google.com/github/GuigaK/Python-URI-Exercises/blob/master/1019_Conversao_de_tempo.ipynb\" target=\"_parent\"><img src=\"https://colab.research.google.com/assets/colab-badge.svg\" alt=\"Open In Colab\"/></a>"
      ]
    },
    {
      "cell_type": "code",
      "metadata": {
        "id": "P5wHMze6_4AF",
        "colab_type": "code",
        "colab": {
          "base_uri": "https://localhost:8080/",
          "height": 51
        },
        "outputId": "0b20ec1c-6a9b-4b38-9b42-86b2a6b31f09"
      },
      "source": [
        "# Ler o valor em segundos\n",
        "n = int(input())\n",
        "\n",
        "# Calcular o valor e atribuir as variaveis\n",
        "hora = int(n / 3600)\n",
        "minuto = int((n / 60) % 60)\n",
        "segundo = int(n % 60)\n",
        "\n",
        "# Imprimir o resultado\n",
        "print('{}:{}:{}'.format(hora, minuto, segundo))"
      ],
      "execution_count": 45,
      "outputs": [
        {
          "output_type": "stream",
          "text": [
            "999999999\n",
            "277777:46:39\n"
          ],
          "name": "stdout"
        }
      ]
    }
  ]
}